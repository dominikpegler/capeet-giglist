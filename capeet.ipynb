{
 "cells": [
  {
   "cell_type": "markdown",
   "id": "db95d319-37f5-4a33-8a08-55fdd7707ec4",
   "metadata": {},
   "source": [
    "Capeet Giglist\n",
    "==="
   ]
  },
  {
   "cell_type": "raw",
   "id": "10f974f0-43a8-4c01-926d-91c020277838",
   "metadata": {
    "tags": []
   },
   "source": [
    "import jupyter_black\n",
    "\n",
    "jupyter_black.load()"
   ]
  },
  {
   "cell_type": "markdown",
   "id": "bebfba4f-3d78-4fe4-9660-1b2829a8a6cf",
   "metadata": {},
   "source": [
    "## Load latest\n",
    "\n",
    "Filtered to \"Wien\""
   ]
  },
  {
   "cell_type": "code",
   "execution_count": 1,
   "id": "c57cadfa-f4a6-44eb-bc4f-1fffda2f78f7",
   "metadata": {
    "tags": []
   },
   "outputs": [],
   "source": [
    "import requests\n",
    "import pandas as pd\n",
    "from bs4 import BeautifulSoup\n",
    "from datetime import datetime\n",
    "import os\n",
    "\n",
    "\n",
    "FILTER = \", Wien\"\n",
    "FILEPATH = \"./capeet_prev.csv\"\n",
    "URL = \"http://www.capeet.com/gigs_list.html\"\n",
    "NOW = datetime.now()\n",
    "\n",
    "html_string = requests.get(URL).text\n",
    "\n",
    "soup = BeautifulSoup(html_string, \"html.parser\")\n",
    "\n",
    "text_content = soup.get_text().split(\"\"\"\\n\\n\\n\\nKW\"\"\")[1]\n",
    "text_content = [i for i in text_content.splitlines() if (i != \"\") & (FILTER in i)]\n",
    "\n",
    "df = pd.DataFrame({\"Text\": text_content})\n",
    "df = df.Text.str.split(\"\\.:\\s\", n=1, regex=True, expand=True)\n",
    "df = df.dropna(axis=0, how=\"any\")\n",
    "df.columns = [\"Date\", \"Text\"]\n",
    "df[\"Date\"] = df[\"Date\"].str.replace(\"\\t\", \"\")\n",
    "df[[\"Day\", \"Month\"]] = df[\"Date\"].str.split(\".\", n=1, expand=True)\n",
    "df[\"Day\"] = df[\"Day\"].astype(int)\n",
    "df[\"Month\"] = df[\"Month\"].astype(int)\n",
    "df = df.drop(\"Date\", axis=1)\n",
    "df[[\"Event\", \"Location\"]] = df[\"Text\"].str.split(\"@\", n=1, expand=True)\n",
    "df[\"Location\"] = df[\"Location\"].str.replace(\"\\[fb\\]$\", \"\", regex=True)\n",
    "df[\"Location\"] = df[\"Location\"].str.replace(\", Wien\", \"\", regex=False)\n",
    "df = df.drop(\"Text\", axis=1)\n",
    "\n",
    "# year is missing in capeet giglist, so we will add it here\n",
    "year_to_add = NOW.year\n",
    "previous_month = NOW.month\n",
    "\n",
    "def add_year(month):\n",
    "    global year_to_add, previous_month\n",
    "\n",
    "    if previous_month > month:\n",
    "        year_to_add += 1\n",
    "    previous_month = month\n",
    "\n",
    "    return year_to_add\n",
    "\n",
    "\n",
    "df[\"Year\"] = df[\"Month\"].apply(add_year)\n",
    "df[\"Date\"] = df[[\"Year\", \"Month\", \"Day\"]].apply(\n",
    "    lambda x: pd.Timestamp(x[\"Year\"], x[\"Month\"], x[\"Day\"]), axis=1\n",
    ")\n",
    "df = df.drop([\"Day\", \"Month\", \"Year\"], axis=1)\n",
    "df = df.reindex(columns=[\"Date\", \"Event\", \"Location\"])"
   ]
  },
  {
   "cell_type": "markdown",
   "id": "edb9cce7-01b0-42e0-9931-d8559b3b6895",
   "metadata": {},
   "source": [
    "## Load previous"
   ]
  },
  {
   "cell_type": "code",
   "execution_count": 2,
   "id": "a9aef77f-d520-4368-bba3-8d1fdb49554d",
   "metadata": {
    "tags": []
   },
   "outputs": [
    {
     "name": "stdout",
     "output_type": "stream",
     "text": [
      "Previous giglist from 2023-10-06 11:22 available\n"
     ]
    }
   ],
   "source": [
    "if os.path.isfile(FILEPATH):\n",
    "    df_prev = pd.read_csv(FILEPATH, parse_dates=[\"Date\"])\n",
    "    creation_time = datetime.fromtimestamp(os.path.getmtime(FILEPATH))\n",
    "    print(\n",
    "        \"Previous giglist from\", creation_time.strftime(\"%Y-%m-%d %H:%M\"), \"available\"\n",
    "    )\n",
    "else:\n",
    "    print(\"No previous giglist available\")\n",
    "    creation_time = NOW\n",
    "    df_prev = df"
   ]
  },
  {
   "cell_type": "markdown",
   "id": "4c634fde-892e-454c-b14b-dfae85a2c5e2",
   "metadata": {},
   "source": [
    "## Show diff"
   ]
  },
  {
   "cell_type": "code",
   "execution_count": 15,
   "id": "60042543-8e82-404a-9047-43823ba4d3ec",
   "metadata": {
    "tags": []
   },
   "outputs": [
    {
     "name": "stdout",
     "output_type": "stream",
     "text": [
      "Changes between 2023-10-06 11:22 and 2023-10-06 17:23 \n",
      "\n"
     ]
    },
    {
     "data": {
      "text/html": [
       "<div>\n",
       "<style scoped>\n",
       "    .dataframe tbody tr th:only-of-type {\n",
       "        vertical-align: middle;\n",
       "    }\n",
       "\n",
       "    .dataframe tbody tr th {\n",
       "        vertical-align: top;\n",
       "    }\n",
       "\n",
       "    .dataframe thead th {\n",
       "        text-align: right;\n",
       "    }\n",
       "</style>\n",
       "<table border=\"1\" class=\"dataframe\">\n",
       "  <thead>\n",
       "    <tr style=\"text-align: right;\">\n",
       "      <th></th>\n",
       "      <th>Date</th>\n",
       "      <th>Event</th>\n",
       "      <th>Location</th>\n",
       "      <th>_merge</th>\n",
       "    </tr>\n",
       "  </thead>\n",
       "  <tbody>\n",
       "    <tr>\n",
       "      <th>0</th>\n",
       "      <td>2023-10-05</td>\n",
       "      <td>CHALK HANDS (uk) / CLUTCH AT STRAWS</td>\n",
       "      <td>Arena-Beisl</td>\n",
       "      <td>removed</td>\n",
       "    </tr>\n",
       "    <tr>\n",
       "      <th>1</th>\n",
       "      <td>2023-10-05</td>\n",
       "      <td>CHOROSIA / THOSAR / GRIMMS EYE</td>\n",
       "      <td>Viper Room</td>\n",
       "      <td>removed</td>\n",
       "    </tr>\n",
       "    <tr>\n",
       "      <th>2</th>\n",
       "      <td>2023-10-05</td>\n",
       "      <td>DAWN RAY'D (uk) / ISKANDR (ned) / LETHEUM</td>\n",
       "      <td>Venster [cancelled.]</td>\n",
       "      <td>removed</td>\n",
       "    </tr>\n",
       "    <tr>\n",
       "      <th>3</th>\n",
       "      <td>2023-10-05</td>\n",
       "      <td>FISH BASKET (pol) / SLOTHMACHINE / MY SOLACE L...</td>\n",
       "      <td>Club 1019</td>\n",
       "      <td>removed</td>\n",
       "    </tr>\n",
       "    <tr>\n",
       "      <th>4</th>\n",
       "      <td>2023-10-05</td>\n",
       "      <td>Ruhail Qaisar (ind) / IDKLANG / SUNDL</td>\n",
       "      <td>rhiz</td>\n",
       "      <td>removed</td>\n",
       "    </tr>\n",
       "    <tr>\n",
       "      <th>5</th>\n",
       "      <td>2023-10-05</td>\n",
       "      <td>YOKOHOMO / TUTTI DILEMMA</td>\n",
       "      <td>Chelsea</td>\n",
       "      <td>removed</td>\n",
       "    </tr>\n",
       "    <tr>\n",
       "      <th>6</th>\n",
       "      <td>2023-10-06</td>\n",
       "      <td>SLOANWALL (cro) / DAMAGE RECONSTRUCT</td>\n",
       "      <td>Café Carina [BURNING FUEL cancelled.]</td>\n",
       "      <td>removed</td>\n",
       "    </tr>\n",
       "    <tr>\n",
       "      <th>7</th>\n",
       "      <td>2023-10-06</td>\n",
       "      <td>SLOANWALL (cro) / DAMAGE RECONSTRUCT / PERMANE...</td>\n",
       "      <td>Café Carina [BURNING FUEL cancelled.]</td>\n",
       "      <td>new</td>\n",
       "    </tr>\n",
       "    <tr>\n",
       "      <th>8</th>\n",
       "      <td>2023-10-29</td>\n",
       "      <td>Alice Phoebe Lou (rsa)</td>\n",
       "      <td>Flex</td>\n",
       "      <td>removed</td>\n",
       "    </tr>\n",
       "    <tr>\n",
       "      <th>9</th>\n",
       "      <td>2023-10-29</td>\n",
       "      <td>Alice Phoebe Lou (rsa) / LOVING (can)</td>\n",
       "      <td>Flex</td>\n",
       "      <td>new</td>\n",
       "    </tr>\n",
       "    <tr>\n",
       "      <th>10</th>\n",
       "      <td>2023-11-12</td>\n",
       "      <td>HIGH COMMAND (usa) / INHUMAN NATURE (uk) / WIL...</td>\n",
       "      <td>Escape</td>\n",
       "      <td>new</td>\n",
       "    </tr>\n",
       "    <tr>\n",
       "      <th>11</th>\n",
       "      <td>2023-11-25</td>\n",
       "      <td>INFALL (ita)</td>\n",
       "      <td>EKH</td>\n",
       "      <td>new</td>\n",
       "    </tr>\n",
       "    <tr>\n",
       "      <th>12</th>\n",
       "      <td>2023-12-01</td>\n",
       "      <td>Wild Evel &amp; The TRASHBONES / STEREO DEATH RAY</td>\n",
       "      <td>Chelsea</td>\n",
       "      <td>removed</td>\n",
       "    </tr>\n",
       "    <tr>\n",
       "      <th>13</th>\n",
       "      <td>2023-12-01</td>\n",
       "      <td>Wild Evel &amp; The TRASHBONES / STEREO DEATH RAY</td>\n",
       "      <td>Chelsea</td>\n",
       "      <td>new</td>\n",
       "    </tr>\n",
       "  </tbody>\n",
       "</table>\n",
       "</div>"
      ],
      "text/plain": [
       "         Date                                              Event  \\\n",
       "0  2023-10-05               CHALK HANDS (uk) / CLUTCH AT STRAWS    \n",
       "1  2023-10-05                    CHOROSIA / THOSAR / GRIMMS EYE    \n",
       "2  2023-10-05         DAWN RAY'D (uk) / ISKANDR (ned) / LETHEUM    \n",
       "3  2023-10-05  FISH BASKET (pol) / SLOTHMACHINE / MY SOLACE L...   \n",
       "4  2023-10-05             Ruhail Qaisar (ind) / IDKLANG / SUNDL    \n",
       "5  2023-10-05                          YOKOHOMO / TUTTI DILEMMA    \n",
       "6  2023-10-06              SLOANWALL (cro) / DAMAGE RECONSTRUCT    \n",
       "7  2023-10-06  SLOANWALL (cro) / DAMAGE RECONSTRUCT / PERMANE...   \n",
       "8  2023-10-29                            Alice Phoebe Lou (rsa)    \n",
       "9  2023-10-29             Alice Phoebe Lou (rsa) / LOVING (can)    \n",
       "10 2023-11-12  HIGH COMMAND (usa) / INHUMAN NATURE (uk) / WIL...   \n",
       "11 2023-11-25                                      INFALL (ita)    \n",
       "12 2023-12-01     Wild Evel & The TRASHBONES / STEREO DEATH RAY    \n",
       "13 2023-12-01     Wild Evel & The TRASHBONES / STEREO DEATH RAY    \n",
       "\n",
       "                                   Location   _merge  \n",
       "0                              Arena-Beisl   removed  \n",
       "1                               Viper Room   removed  \n",
       "2                      Venster [cancelled.]  removed  \n",
       "3                                Club 1019   removed  \n",
       "4                                     rhiz   removed  \n",
       "5                                   Chelsea  removed  \n",
       "6    Café Carina [BURNING FUEL cancelled.]   removed  \n",
       "7    Café Carina [BURNING FUEL cancelled.]       new  \n",
       "8                                     Flex   removed  \n",
       "9                                     Flex       new  \n",
       "10                                  Escape       new  \n",
       "11                                      EKH      new  \n",
       "12                                  Chelsea  removed  \n",
       "13                                 Chelsea       new  "
      ]
     },
     "execution_count": 15,
     "metadata": {},
     "output_type": "execute_result"
    }
   ],
   "source": [
    "df_diff = df.merge(\n",
    "    df_prev, on=[\"Date\", \"Event\", \"Location\"], how=\"outer\", indicator=True\n",
    ")\n",
    "\n",
    "print(\n",
    "    \"Changes between\",\n",
    "    creation_time.strftime(\"%Y-%m-%d %H:%M\"),\n",
    "    \"and\",\n",
    "    NOW.strftime(\"%Y-%m-%d %H:%M\"),\n",
    "    \"\\n\",\n",
    ")\n",
    "\n",
    "df_diff._merge = df_diff._merge.apply(lambda x: {\"left_only\":\"new\", \"right_only\":\"removed\", \"both\": \"\"}[x])\n",
    "df_diff = df_diff.loc[df_diff._merge != \"\"]\n",
    "df_diff = df_diff.sort_values([\"Date\", \"Event\", \"Location\"]).reset_index(drop=True)\n",
    "\n",
    "df_diff"
   ]
  },
  {
   "cell_type": "markdown",
   "id": "0922fb75-7394-4c87-9adc-fabf980b7f74",
   "metadata": {},
   "source": [
    "## Update latest"
   ]
  },
  {
   "cell_type": "code",
   "execution_count": 4,
   "id": "139ca214-044f-40ee-b034-b7cbc9af6d04",
   "metadata": {
    "tags": []
   },
   "outputs": [],
   "source": [
    "df.to_csv(\"capeet_prev.csv\", index=False)"
   ]
  }
 ],
 "metadata": {
  "kernelspec": {
   "display_name": "Python 3 (ipykernel)",
   "language": "python",
   "name": "python3"
  },
  "language_info": {
   "codemirror_mode": {
    "name": "ipython",
    "version": 3
   },
   "file_extension": ".py",
   "mimetype": "text/x-python",
   "name": "python",
   "nbconvert_exporter": "python",
   "pygments_lexer": "ipython3",
   "version": "3.9.17"
  }
 },
 "nbformat": 4,
 "nbformat_minor": 5
}
