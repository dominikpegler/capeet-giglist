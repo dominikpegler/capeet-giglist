{
 "cells": [
  {
   "cell_type": "markdown",
   "id": "db95d319-37f5-4a33-8a08-55fdd7707ec4",
   "metadata": {},
   "source": [
    "Capeet Giglist\n",
    "==="
   ]
  },
  {
   "cell_type": "raw",
   "id": "10f974f0-43a8-4c01-926d-91c020277838",
   "metadata": {
    "tags": []
   },
   "source": [
    "import jupyter_black\n",
    "\n",
    "jupyter_black.load()"
   ]
  },
  {
   "cell_type": "markdown",
   "id": "bebfba4f-3d78-4fe4-9660-1b2829a8a6cf",
   "metadata": {},
   "source": [
    "## Load latest\n",
    "\n",
    "Filtered to \"Wien\""
   ]
  },
  {
   "cell_type": "code",
   "execution_count": 17,
   "id": "c57cadfa-f4a6-44eb-bc4f-1fffda2f78f7",
   "metadata": {
    "tags": []
   },
   "outputs": [],
   "source": [
    "import requests\n",
    "import pandas as pd\n",
    "from bs4 import BeautifulSoup\n",
    "from datetime import datetime\n",
    "import os\n",
    "pd.set_option('display.max_rows', 500)\n",
    "\n",
    "\n",
    "FILTER = \", Wien\"\n",
    "FILEPATH = \"~/Dropbox/capeet_prev.csv\"\n",
    "URL = \"http://www.capeet.com/gigs_list.html\"\n",
    "NOW = datetime.now()\n",
    "\n",
    "html_string = requests.get(URL).text\n",
    "\n",
    "soup = BeautifulSoup(html_string, \"html.parser\")\n",
    "\n",
    "text_content = soup.get_text().split(\"\"\"\\n\\n\\n\\nKW\"\"\")[1]\n",
    "text_content = [i for i in text_content.splitlines() if (i != \"\") & (FILTER in i)]\n",
    "\n",
    "df = pd.DataFrame({\"Text\": text_content})\n",
    "df = df.Text.str.split(\"\\.:\\s\", n=1, regex=True, expand=True)\n",
    "df = df.dropna(axis=0, how=\"any\")\n",
    "df.columns = [\"Date\", \"Text\"]\n",
    "df[\"Date\"] = df[\"Date\"].str.replace(\"\\t\", \"\")\n",
    "df[[\"Day\", \"Month\"]] = df[\"Date\"].str.split(\".\", n=1, expand=True)\n",
    "df[\"Day\"] = df[\"Day\"].astype(int)\n",
    "df[\"Month\"] = df[\"Month\"].astype(int)\n",
    "df = df.drop(\"Date\", axis=1)\n",
    "df[[\"Event\", \"Location\"]] = df[\"Text\"].str.split(\"@\", n=1, expand=True)\n",
    "df[\"Location\"] = df[\"Location\"].str.replace(\"\\[fb\\]$\", \"\", regex=True)\n",
    "df[\"Location\"] = df[\"Location\"].str.replace(\"\\[web\\]$\", \"\", regex=True)\n",
    "df[\"Location\"] = df[\"Location\"].str.replace(\", Wien\", \"\", regex=False)\n",
    "df = df.drop(\"Text\", axis=1)\n",
    "\n",
    "# year is missing in capeet giglist, so we will add it here\n",
    "year_to_add = NOW.year\n",
    "previous_month = NOW.month\n",
    "\n",
    "def add_year(month):\n",
    "    global year_to_add, previous_month\n",
    "\n",
    "    if previous_month > month:\n",
    "        year_to_add += 1\n",
    "    previous_month = month\n",
    "\n",
    "    return year_to_add\n",
    "\n",
    "\n",
    "df[\"Year\"] = df[\"Month\"].apply(add_year)\n",
    "df[\"Date\"] = df[[\"Year\", \"Month\", \"Day\"]].apply(\n",
    "    lambda x: pd.Timestamp(x[\"Year\"], x[\"Month\"], x[\"Day\"]), axis=1\n",
    ")\n",
    "df = df.drop([\"Day\", \"Month\", \"Year\"], axis=1)\n",
    "df = df.reindex(columns=[\"Date\", \"Event\", \"Location\"])"
   ]
  },
  {
   "cell_type": "markdown",
   "id": "edb9cce7-01b0-42e0-9931-d8559b3b6895",
   "metadata": {},
   "source": [
    "## Load previous"
   ]
  },
  {
   "cell_type": "code",
   "execution_count": 18,
   "id": "a9aef77f-d520-4368-bba3-8d1fdb49554d",
   "metadata": {
    "tags": []
   },
   "outputs": [
    {
     "name": "stdout",
     "output_type": "stream",
     "text": [
      "Previous giglist from 2023-11-09 23:13 available\n"
     ]
    }
   ],
   "source": [
    "if os.path.isfile(FILEPATH):\n",
    "    df_prev = pd.read_csv(FILEPATH, parse_dates=[\"Date\"])\n",
    "    creation_time = datetime.fromtimestamp(os.path.getmtime(FILEPATH))\n",
    "    print(\n",
    "        \"Previous giglist from\", creation_time.strftime(\"%Y-%m-%d %H:%M\"), \"available\"\n",
    "    )\n",
    "else:\n",
    "    print(\"No previous giglist available\")\n",
    "    creation_time = NOW\n",
    "    df_prev = df"
   ]
  },
  {
   "cell_type": "markdown",
   "id": "4c634fde-892e-454c-b14b-dfae85a2c5e2",
   "metadata": {},
   "source": [
    "## Show diff"
   ]
  },
  {
   "cell_type": "code",
   "execution_count": 19,
   "id": "60042543-8e82-404a-9047-43823ba4d3ec",
   "metadata": {
    "tags": []
   },
   "outputs": [
    {
     "name": "stdout",
     "output_type": "stream",
     "text": [
      "Changes between 2023-11-09 23:13 and 2023-11-10 10:53 \n",
      "\n"
     ]
    },
    {
     "data": {
      "text/html": [
       "<div>\n",
       "<style scoped>\n",
       "    .dataframe tbody tr th:only-of-type {\n",
       "        vertical-align: middle;\n",
       "    }\n",
       "\n",
       "    .dataframe tbody tr th {\n",
       "        vertical-align: top;\n",
       "    }\n",
       "\n",
       "    .dataframe thead th {\n",
       "        text-align: right;\n",
       "    }\n",
       "</style>\n",
       "<table border=\"1\" class=\"dataframe\">\n",
       "  <thead>\n",
       "    <tr style=\"text-align: right;\">\n",
       "      <th></th>\n",
       "      <th>Date</th>\n",
       "      <th>Event</th>\n",
       "      <th>Location</th>\n",
       "      <th>_merge</th>\n",
       "    </tr>\n",
       "  </thead>\n",
       "  <tbody>\n",
       "    <tr>\n",
       "      <th>0</th>\n",
       "      <td>2023-11-09</td>\n",
       "      <td>BLACKWATER HOLYLIGHT (usa) / IRON JINN (ned)</td>\n",
       "      <td>Arena (kl. Halle)</td>\n",
       "      <td>removed</td>\n",
       "    </tr>\n",
       "    <tr>\n",
       "      <th>1</th>\n",
       "      <td>2023-11-09</td>\n",
       "      <td>CULT OF YOUTH (usa)</td>\n",
       "      <td>Viper Room</td>\n",
       "      <td>removed</td>\n",
       "    </tr>\n",
       "    <tr>\n",
       "      <th>2</th>\n",
       "      <td>2023-11-09</td>\n",
       "      <td>DISTORTED PONY (usa) / ANNE PEDERSDOTTER</td>\n",
       "      <td>rhiz</td>\n",
       "      <td>removed</td>\n",
       "    </tr>\n",
       "    <tr>\n",
       "      <th>3</th>\n",
       "      <td>2023-11-09</td>\n",
       "      <td>GOV'T MULE (usa)</td>\n",
       "      <td>Globe</td>\n",
       "      <td>removed</td>\n",
       "    </tr>\n",
       "    <tr>\n",
       "      <th>4</th>\n",
       "      <td>2023-11-09</td>\n",
       "      <td>HOLDING ABSENCE (uk)</td>\n",
       "      <td>Flex</td>\n",
       "      <td>removed</td>\n",
       "    </tr>\n",
       "    <tr>\n",
       "      <th>5</th>\n",
       "      <td>2023-11-09</td>\n",
       "      <td>LB Marszalek (bel) / RYVERS</td>\n",
       "      <td>Einbaumöbel</td>\n",
       "      <td>removed</td>\n",
       "    </tr>\n",
       "    <tr>\n",
       "      <th>6</th>\n",
       "      <td>2023-11-09</td>\n",
       "      <td>The HEROINE WHORES (d) / TV MOMS (usa) / HIDDE...</td>\n",
       "      <td>Venster</td>\n",
       "      <td>removed</td>\n",
       "    </tr>\n",
       "    <tr>\n",
       "      <th>7</th>\n",
       "      <td>2024-02-06</td>\n",
       "      <td>BUZZ KULL (aus)</td>\n",
       "      <td>Venster</td>\n",
       "      <td>removed</td>\n",
       "    </tr>\n",
       "    <tr>\n",
       "      <th>8</th>\n",
       "      <td>2024-02-06</td>\n",
       "      <td>BUZZ KULL (aus) / SUNDL</td>\n",
       "      <td>Venster</td>\n",
       "      <td>new</td>\n",
       "    </tr>\n",
       "    <tr>\n",
       "      <th>9</th>\n",
       "      <td>2024-03-16</td>\n",
       "      <td>JAYA THE CAT (ned) / Kemo The Blaxican (usa)</td>\n",
       "      <td>Arena (gr. Halle)</td>\n",
       "      <td>new</td>\n",
       "    </tr>\n",
       "  </tbody>\n",
       "</table>\n",
       "</div>"
      ],
      "text/plain": [
       "        Date                                              Event  \\\n",
       "0 2023-11-09      BLACKWATER HOLYLIGHT (usa) / IRON JINN (ned)    \n",
       "1 2023-11-09                               CULT OF YOUTH (usa)    \n",
       "2 2023-11-09          DISTORTED PONY (usa) / ANNE PEDERSDOTTER    \n",
       "3 2023-11-09                                  GOV'T MULE (usa)    \n",
       "4 2023-11-09                              HOLDING ABSENCE (uk)    \n",
       "5 2023-11-09                       LB Marszalek (bel) / RYVERS    \n",
       "6 2023-11-09  The HEROINE WHORES (d) / TV MOMS (usa) / HIDDE...   \n",
       "7 2024-02-06                                   BUZZ KULL (aus)    \n",
       "8 2024-02-06                           BUZZ KULL (aus) / SUNDL    \n",
       "9 2024-03-16      JAYA THE CAT (ned) / Kemo The Blaxican (usa)    \n",
       "\n",
       "              Location   _merge  \n",
       "0   Arena (kl. Halle)   removed  \n",
       "1          Viper Room   removed  \n",
       "2                rhiz   removed  \n",
       "3               Globe   removed  \n",
       "4                Flex   removed  \n",
       "5         Einbaumöbel   removed  \n",
       "6             Venster   removed  \n",
       "7             Venster   removed  \n",
       "8             Venster       new  \n",
       "9   Arena (gr. Halle)       new  "
      ]
     },
     "execution_count": 19,
     "metadata": {},
     "output_type": "execute_result"
    }
   ],
   "source": [
    "df_diff = df.merge(\n",
    "    df_prev, on=[\"Date\", \"Event\", \"Location\"], how=\"outer\", indicator=True\n",
    ")\n",
    "\n",
    "print(\n",
    "    \"Changes between\",\n",
    "    creation_time.strftime(\"%Y-%m-%d %H:%M\"),\n",
    "    \"and\",\n",
    "    NOW.strftime(\"%Y-%m-%d %H:%M\"),\n",
    "    \"\\n\",\n",
    ")\n",
    "\n",
    "df_diff._merge = df_diff._merge.apply(lambda x: {\"left_only\":\"new\", \"right_only\":\"removed\", \"both\": \"\"}[x])\n",
    "df_diff = df_diff.loc[df_diff._merge != \"\"]\n",
    "df_diff = df_diff.sort_values([\"Date\", \"Event\", \"Location\"]).reset_index(drop=True)\n",
    "\n",
    "df_diff"
   ]
  },
  {
   "cell_type": "markdown",
   "id": "0922fb75-7394-4c87-9adc-fabf980b7f74",
   "metadata": {},
   "source": [
    "## Update previous"
   ]
  },
  {
   "cell_type": "code",
   "execution_count": 20,
   "id": "139ca214-044f-40ee-b034-b7cbc9af6d04",
   "metadata": {
    "tags": []
   },
   "outputs": [],
   "source": [
    "df.to_csv(\"capeet_prev.csv\", index=False)"
   ]
  },
  {
   "cell_type": "code",
   "execution_count": null,
   "id": "db7ad8c6-3f35-4814-bf88-fbfb3312c4b2",
   "metadata": {},
   "outputs": [],
   "source": []
  }
 ],
 "metadata": {
  "kernelspec": {
   "display_name": "Python 3 (ipykernel)",
   "language": "python",
   "name": "python3"
  },
  "language_info": {
   "codemirror_mode": {
    "name": "ipython",
    "version": 3
   },
   "file_extension": ".py",
   "mimetype": "text/x-python",
   "name": "python",
   "nbconvert_exporter": "python",
   "pygments_lexer": "ipython3",
   "version": "3.9.17"
  }
 },
 "nbformat": 4,
 "nbformat_minor": 5
}
